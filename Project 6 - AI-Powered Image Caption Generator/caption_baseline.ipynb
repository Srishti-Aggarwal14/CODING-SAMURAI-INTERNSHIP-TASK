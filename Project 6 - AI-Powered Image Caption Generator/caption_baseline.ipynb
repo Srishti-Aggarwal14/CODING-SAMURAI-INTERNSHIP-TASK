{
  "nbformat": 4,
  "nbformat_minor": 5,
  "metadata": {},
  "cells": [
    {
      "cell_type": "code",
      "metadata": {},
      "source": "#!/usr/bin/env python3\nfrom PIL import Image\nimport numpy as np\nimg = Image.open(\"data/sample.jpg\").convert('L')\narr = np.array(img)/255.0\nprint(\"Mean brightness\",arr.mean())\n",
      "outputs": [],
      "execution_count": null
    }
  ]
}