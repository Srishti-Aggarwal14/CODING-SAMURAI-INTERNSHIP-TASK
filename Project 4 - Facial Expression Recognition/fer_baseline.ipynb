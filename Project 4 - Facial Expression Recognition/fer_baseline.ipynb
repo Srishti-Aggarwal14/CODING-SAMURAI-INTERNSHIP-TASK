{
  "nbformat": 4,
  "nbformat_minor": 5,
  "metadata": {},
  "cells": [
    {
      "cell_type": "code",
      "metadata": {},
      "source": "#!/usr/bin/env python3\nimport pandas as pd, numpy as np\nfrom PIL import Image\nfrom sklearn.linear_model import LogisticRegression\nfrom sklearn.model_selection import train_test_split\n\nmeta = pd.read_csv(\"data/labels.csv\")\nX,y=[],[]\nfor _,r in meta.iterrows():\n    img = Image.open(r['file']).convert('L')\n    X.append(np.array(img).flatten())\n    y.append(r['label'])\nX = np.array(X)/255.0\nXtr,Xte,ytr,yte = train_test_split(X,y,test_size=0.2)\nclf = LogisticRegression(max_iter=500).fit(Xtr,ytr)\nprint(\"Score:\", clf.score(Xte,yte))\n",
      "outputs": [],
      "execution_count": null
    }
  ]
}