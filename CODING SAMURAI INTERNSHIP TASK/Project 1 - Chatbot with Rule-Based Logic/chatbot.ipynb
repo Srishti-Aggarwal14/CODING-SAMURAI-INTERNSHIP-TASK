{
  "nbformat": 4,
  "nbformat_minor": 5,
  "metadata": {},
  "cells": [
    {
      "cell_type": "code",
      "metadata": {},
      "source": "#!/usr/bin/env python3\ndef respond(user_input: str) -> str:\n    text = user_input.lower().strip()\n    if any(g in text for g in [\"hello\", \"hi\", \"hey\"]):\n        return \"Hello! How can I help you today?\"\n    if \"your name\" in text:\n        return \"I'm a simple chatbot.\"\n    if \"hours\" in text:\n        return \"We operate 24/7 online.\"\n    if \"contact\" in text:\n        return \"Email us at support@example.com.\"\n    if text in [\"bye\", \"exit\", \"quit\"]:\n        return \"Goodbye!\"\n    return \"I don't understand that.\"\n\ndef chat():\n    print(\"Chatbot (type 'bye' to exit)\")\n    while True:\n        user = input(\"You: \")\n        if user.lower() in [\"bye\",\"exit\",\"quit\"]:\n            print(\"Bot: Goodbye!\")\n            break\n        print(\"Bot:\", respond(user))\n\nif __name__ == \"__main__\":\n    chat()\n",
      "outputs": [],
      "execution_count": null
    }
  ]
}