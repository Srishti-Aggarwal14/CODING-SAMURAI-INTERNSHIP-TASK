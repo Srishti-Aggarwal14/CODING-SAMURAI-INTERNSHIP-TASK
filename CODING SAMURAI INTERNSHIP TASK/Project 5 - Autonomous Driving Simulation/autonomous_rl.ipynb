{
  "nbformat": 4,
  "nbformat_minor": 5,
  "metadata": {},
  "cells": [
    {
      "cell_type": "code",
      "metadata": {},
      "source": "#!/usr/bin/env python3\nimport random, numpy as np\n\nclass LaneEnv:\n    def __init__(self,len_=10,lanes=3):\n        self.len=len_; self.lanes=lanes; self.center=lanes//2\n    def reset(self):\n        self.pos=[self.center,0]; return tuple(self.pos)\n    def step(self,a):\n        lane,x=self.pos\n        if a==0 and lane>0: lane-=1\n        elif a==2 and lane<self.lanes-1: lane+=1\n        x+=1\n        r=1-0.2*abs(lane-self.center)\n        self.pos=[lane,x]\n        return tuple(self.pos),r,x>=self.len,{}\n\ndef qlearn(ep=5):\n    env=LaneEnv()\n    Q={}\n    for _ in range(ep):\n        s=env.reset()\n        while True:\n            a=random.choice([0,1,2])\n            s2,r,d,_=env.step(a)\n            Q[(s,a)]=Q.get((s,a),0)+0.1*(r)\n            s=s2\n            if d: break\n    print(\"Q-table size\",len(Q))\n\nif __name__==\"__main__\":\n    qlearn()\n",
      "outputs": [],
      "execution_count": null
    }
  ]
}