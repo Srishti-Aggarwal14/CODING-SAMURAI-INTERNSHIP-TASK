{
  "nbformat": 4,
  "nbformat_minor": 5,
  "metadata": {},
  "cells": [
    {
      "cell_type": "code",
      "metadata": {},
      "source": "#!/usr/bin/env python3\nimport pandas as pd, numpy as np\nfrom sklearn.linear_model import LinearRegression\nfrom sklearn.model_selection import train_test_split\nfrom sklearn.metrics import mean_absolute_error\n\ndf = pd.read_csv(\"data/stock.csv\",parse_dates=[\"date\"])\ndf['t'] = (df['date']-df['date'].min()).dt.days\nX = df[['t']]\ny = df['close']\nXtr,Xte,ytr,yte = train_test_split(X,y,shuffle=False,test_size=0.2)\nm = LinearRegression().fit(Xtr,ytr)\npred = m.predict(Xte)\nprint(\"MAE:\", mean_absolute_error(yte,pred))\n",
      "outputs": [],
      "execution_count": null
    }
  ]
}