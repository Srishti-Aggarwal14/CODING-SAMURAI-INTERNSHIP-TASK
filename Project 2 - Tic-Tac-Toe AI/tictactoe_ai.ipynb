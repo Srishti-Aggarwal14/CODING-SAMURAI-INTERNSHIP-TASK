{
  "nbformat": 4,
  "nbformat_minor": 5,
  "metadata": {},
  "cells": [
    {
      "cell_type": "code",
      "metadata": {},
      "source": "#!/usr/bin/env python3\nimport math\n\ndef print_board(b):\n    for i in range(0,9,3):\n        print(*(b[i+j] or '.' for j in range(3)))\n\ndef winner(b):\n    wins = [(0,1,2),(3,4,5),(6,7,8),(0,3,6),(1,4,7),(2,5,8),(0,4,8),(2,4,6)]\n    for a,b_,c in wins:\n        if b[a] and b[a]==b[b_]==b[c]:\n            return b[a]\n    if all(b): return \"Draw\"\n    return None\n\ndef minimax(b, ai):\n    w = winner(b)\n    if w==\"O\": return 1,None\n    if w==\"X\": return -1,None\n    if w==\"Draw\": return 0,None\n    best = -math.inf if ai else math.inf\n    move = None\n    for i in range(9):\n        if not b[i]:\n            b[i] = \"O\" if ai else \"X\"\n            score,_ = minimax(b, not ai)\n            b[i] = None\n            if ai and score>best:\n                best,move = score,i\n            if not ai and score<best:\n                best,move = score,i\n    return best,move\n\ndef main():\n    b = [None]*9\n    while True:\n        pos = int(input(\"Your move (1-9):\"))-1\n        if b[pos]: continue\n        b[pos]=\"X\"\n        print_board(b)\n        if winner(b): break\n        _,m = minimax(b, True)\n        b[m]=\"O\"\n        print(\"AI move:\")\n        print_board(b)\n        if winner(b): break\n    print(\"Winner:\", winner(b))\n\nif __name__==\"__main__\":\n    main()\n",
      "outputs": [],
      "execution_count": null
    }
  ]
}